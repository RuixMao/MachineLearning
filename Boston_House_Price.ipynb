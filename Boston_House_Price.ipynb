{
  "cells": [
    {
      "cell_type": "markdown",
      "metadata": {
        "id": "ETs3JTbaj3eX"
      },
      "source": [
        "**Boston House Price Prediction Model**\n",
        "\n",
        "https://www.kaggle.com/vikrishnan/boston-house-prices"
      ]
    },
    {
      "cell_type": "code",
      "execution_count": 31,
      "metadata": {
        "execution": {
          "iopub.execute_input": "2021-11-02T19:16:51.141219Z",
          "iopub.status.busy": "2021-11-02T19:16:51.140907Z",
          "iopub.status.idle": "2021-11-02T19:16:52.608412Z",
          "shell.execute_reply": "2021-11-02T19:16:52.60747Z",
          "shell.execute_reply.started": "2021-11-02T19:16:51.141184Z"
        },
        "id": "trtnraB9a3xo",
        "trusted": true
      },
      "outputs": [],
      "source": [
        "#Load our libraries\n",
        "import numpy as np\n",
        "import pandas as pd\n",
        "import matplotlib.pyplot as plt\n",
        "import seaborn as sns\n",
        "from sklearn.model_selection import train_test_split\n",
        "from sklearn.linear_model import LinearRegression\n",
        "#model evaluation metrics\n",
        "from sklearn.metrics import r2_score,mean_absolute_error,mean_squared_error\n",
        "#We want our plots appear inside our notebook\n",
        "%matplotlib inline"
      ]
    },
    {
      "cell_type": "markdown",
      "metadata": {
        "id": "ueIAbp8Ja3xq"
      },
      "source": [
        "## 1.Problem Definition\n",
        "Given a set of a house features can we be able to predict it's price."
      ]
    },
    {
      "cell_type": "code",
      "execution_count": 32,
      "metadata": {
        "execution": {
          "iopub.execute_input": "2021-11-02T19:06:48.560443Z",
          "iopub.status.busy": "2021-11-02T19:06:48.560009Z",
          "iopub.status.idle": "2021-11-02T19:06:48.5819Z",
          "shell.execute_reply": "2021-11-02T19:06:48.581108Z",
          "shell.execute_reply.started": "2021-11-02T19:06:48.560388Z"
        },
        "id": "qldgaieOa3xr",
        "trusted": true
      },
      "outputs": [],
      "source": [
        "#Load our data\n",
        "data=pd.read_csv(\"housing.csv\")"
      ]
    },
    {
      "cell_type": "code",
      "execution_count": 33,
      "metadata": {
        "colab": {
          "base_uri": "https://localhost:8080/",
          "height": 206
        },
        "execution": {
          "iopub.execute_input": "2021-11-02T19:10:36.407613Z",
          "iopub.status.busy": "2021-11-02T19:10:36.40687Z",
          "iopub.status.idle": "2021-11-02T19:10:36.417205Z",
          "shell.execute_reply": "2021-11-02T19:10:36.416279Z",
          "shell.execute_reply.started": "2021-11-02T19:10:36.407573Z"
        },
        "id": "Z-W30Rpra3xu",
        "outputId": "5f6fe05e-ab2e-4ea8-fa17-cc00198beaa8",
        "trusted": true
      },
      "outputs": [
        {
          "data": {
            "text/html": [
              "<div>\n",
              "<style scoped>\n",
              "    .dataframe tbody tr th:only-of-type {\n",
              "        vertical-align: middle;\n",
              "    }\n",
              "\n",
              "    .dataframe tbody tr th {\n",
              "        vertical-align: top;\n",
              "    }\n",
              "\n",
              "    .dataframe thead th {\n",
              "        text-align: right;\n",
              "    }\n",
              "</style>\n",
              "<table border=\"1\" class=\"dataframe\">\n",
              "  <thead>\n",
              "    <tr style=\"text-align: right;\">\n",
              "      <th></th>\n",
              "      <th>0.00632  18.00   2.310  0  0.5380  6.5750  65.20  4.0900   1  296.0  15.30 396.90   4.98  24.00</th>\n",
              "    </tr>\n",
              "  </thead>\n",
              "  <tbody>\n",
              "    <tr>\n",
              "      <th>0</th>\n",
              "      <td>0.02731   0.00   7.070  0  0.4690  6.4210  78...</td>\n",
              "    </tr>\n",
              "    <tr>\n",
              "      <th>1</th>\n",
              "      <td>0.02729   0.00   7.070  0  0.4690  7.1850  61...</td>\n",
              "    </tr>\n",
              "    <tr>\n",
              "      <th>2</th>\n",
              "      <td>0.03237   0.00   2.180  0  0.4580  6.9980  45...</td>\n",
              "    </tr>\n",
              "    <tr>\n",
              "      <th>3</th>\n",
              "      <td>0.06905   0.00   2.180  0  0.4580  7.1470  54...</td>\n",
              "    </tr>\n",
              "    <tr>\n",
              "      <th>4</th>\n",
              "      <td>0.02985   0.00   2.180  0  0.4580  6.4300  58...</td>\n",
              "    </tr>\n",
              "  </tbody>\n",
              "</table>\n",
              "</div>"
            ],
            "text/plain": [
              "   0.00632  18.00   2.310  0  0.5380  6.5750  65.20  4.0900   1  296.0  15.30 396.90   4.98  24.00\n",
              "0   0.02731   0.00   7.070  0  0.4690  6.4210  78...                                              \n",
              "1   0.02729   0.00   7.070  0  0.4690  7.1850  61...                                              \n",
              "2   0.03237   0.00   2.180  0  0.4580  6.9980  45...                                              \n",
              "3   0.06905   0.00   2.180  0  0.4580  7.1470  54...                                              \n",
              "4   0.02985   0.00   2.180  0  0.4580  6.4300  58...                                              "
            ]
          },
          "execution_count": 33,
          "metadata": {},
          "output_type": "execute_result"
        }
      ],
      "source": [
        "#summary of our data\n",
        "data.head()"
      ]
    },
    {
      "cell_type": "code",
      "execution_count": 34,
      "metadata": {
        "execution": {
          "iopub.execute_input": "2021-11-02T19:11:34.93478Z",
          "iopub.status.busy": "2021-11-02T19:11:34.934492Z",
          "iopub.status.idle": "2021-11-02T19:11:34.948351Z",
          "shell.execute_reply": "2021-11-02T19:11:34.947494Z",
          "shell.execute_reply.started": "2021-11-02T19:11:34.934749Z"
        },
        "id": "-i1xIjGda3xx",
        "trusted": true
      },
      "outputs": [],
      "source": [
        "#column names for house features\n",
        "column_names = ['CRIM', 'ZN', 'INDUS', 'CHAS', 'NOX', 'RM', 'AGE', 'DIS', 'RAD', 'TAX', 'PTRATIO', 'B', 'LSTAT', 'MEDV']\n",
        "#assigning columns names to our data\n",
        "data=pd.read_csv(\"housing.csv\",header=None,delimiter=r\"\\s+\", names=column_names)"
      ]
    },
    {
      "cell_type": "markdown",
      "metadata": {
        "id": "IFDZLGvaa3xz"
      },
      "source": [
        "## 2. Data Exploration"
      ]
    },
    {
      "cell_type": "code",
      "execution_count": 35,
      "metadata": {
        "colab": {
          "base_uri": "https://localhost:8080/"
        },
        "execution": {
          "iopub.execute_input": "2021-11-02T19:13:47.012847Z",
          "iopub.status.busy": "2021-11-02T19:13:47.012546Z",
          "iopub.status.idle": "2021-11-02T19:13:47.021097Z",
          "shell.execute_reply": "2021-11-02T19:13:47.020254Z",
          "shell.execute_reply.started": "2021-11-02T19:13:47.012817Z"
        },
        "id": "md7u-rlra3x2",
        "outputId": "d52f3718-3b89-4507-f7da-dd5879a6f86b",
        "trusted": true
      },
      "outputs": [
        {
          "data": {
            "text/plain": [
              "CRIM       float64\n",
              "ZN         float64\n",
              "INDUS      float64\n",
              "CHAS         int64\n",
              "NOX        float64\n",
              "RM         float64\n",
              "AGE        float64\n",
              "DIS        float64\n",
              "RAD          int64\n",
              "TAX        float64\n",
              "PTRATIO    float64\n",
              "B          float64\n",
              "LSTAT      float64\n",
              "MEDV       float64\n",
              "dtype: object"
            ]
          },
          "execution_count": 35,
          "metadata": {},
          "output_type": "execute_result"
        }
      ],
      "source": [
        "#check the data types in our data\n",
        "data.dtypes"
      ]
    },
    {
      "cell_type": "code",
      "execution_count": 36,
      "metadata": {
        "colab": {
          "base_uri": "https://localhost:8080/"
        },
        "execution": {
          "iopub.execute_input": "2021-11-02T19:13:15.209539Z",
          "iopub.status.busy": "2021-11-02T19:13:15.20883Z",
          "iopub.status.idle": "2021-11-02T19:13:15.214305Z",
          "shell.execute_reply": "2021-11-02T19:13:15.213669Z",
          "shell.execute_reply.started": "2021-11-02T19:13:15.209483Z"
        },
        "id": "DcC77FGha3x1",
        "outputId": "be56255b-24f7-4d84-a887-65e32c60a6c7",
        "trusted": true
      },
      "outputs": [
        {
          "data": {
            "text/plain": [
              "(506, 14)"
            ]
          },
          "execution_count": 36,
          "metadata": {},
          "output_type": "execute_result"
        }
      ],
      "source": [
        "#getting the shape our data in rows and columns\n",
        "data.shape"
      ]
    },
    {
      "cell_type": "code",
      "execution_count": 37,
      "metadata": {
        "colab": {
          "base_uri": "https://localhost:8080/",
          "height": 206
        },
        "execution": {
          "iopub.execute_input": "2021-11-02T19:13:25.948156Z",
          "iopub.status.busy": "2021-11-02T19:13:25.947436Z",
          "iopub.status.idle": "2021-11-02T19:13:25.974507Z",
          "shell.execute_reply": "2021-11-02T19:13:25.973793Z",
          "shell.execute_reply.started": "2021-11-02T19:13:25.948107Z"
        },
        "id": "yhEHhGFfa3x1",
        "outputId": "ea5b643f-deac-4f32-984d-d5e8dc91f451",
        "trusted": true
      },
      "outputs": [
        {
          "data": {
            "text/html": [
              "<div>\n",
              "<style scoped>\n",
              "    .dataframe tbody tr th:only-of-type {\n",
              "        vertical-align: middle;\n",
              "    }\n",
              "\n",
              "    .dataframe tbody tr th {\n",
              "        vertical-align: top;\n",
              "    }\n",
              "\n",
              "    .dataframe thead th {\n",
              "        text-align: right;\n",
              "    }\n",
              "</style>\n",
              "<table border=\"1\" class=\"dataframe\">\n",
              "  <thead>\n",
              "    <tr style=\"text-align: right;\">\n",
              "      <th></th>\n",
              "      <th>CRIM</th>\n",
              "      <th>ZN</th>\n",
              "      <th>INDUS</th>\n",
              "      <th>CHAS</th>\n",
              "      <th>NOX</th>\n",
              "      <th>RM</th>\n",
              "      <th>AGE</th>\n",
              "      <th>DIS</th>\n",
              "      <th>RAD</th>\n",
              "      <th>TAX</th>\n",
              "      <th>PTRATIO</th>\n",
              "      <th>B</th>\n",
              "      <th>LSTAT</th>\n",
              "      <th>MEDV</th>\n",
              "    </tr>\n",
              "  </thead>\n",
              "  <tbody>\n",
              "    <tr>\n",
              "      <th>0</th>\n",
              "      <td>0.00632</td>\n",
              "      <td>18.0</td>\n",
              "      <td>2.31</td>\n",
              "      <td>0</td>\n",
              "      <td>0.538</td>\n",
              "      <td>6.575</td>\n",
              "      <td>65.2</td>\n",
              "      <td>4.0900</td>\n",
              "      <td>1</td>\n",
              "      <td>296.0</td>\n",
              "      <td>15.3</td>\n",
              "      <td>396.90</td>\n",
              "      <td>4.98</td>\n",
              "      <td>24.0</td>\n",
              "    </tr>\n",
              "    <tr>\n",
              "      <th>1</th>\n",
              "      <td>0.02731</td>\n",
              "      <td>0.0</td>\n",
              "      <td>7.07</td>\n",
              "      <td>0</td>\n",
              "      <td>0.469</td>\n",
              "      <td>6.421</td>\n",
              "      <td>78.9</td>\n",
              "      <td>4.9671</td>\n",
              "      <td>2</td>\n",
              "      <td>242.0</td>\n",
              "      <td>17.8</td>\n",
              "      <td>396.90</td>\n",
              "      <td>9.14</td>\n",
              "      <td>21.6</td>\n",
              "    </tr>\n",
              "    <tr>\n",
              "      <th>2</th>\n",
              "      <td>0.02729</td>\n",
              "      <td>0.0</td>\n",
              "      <td>7.07</td>\n",
              "      <td>0</td>\n",
              "      <td>0.469</td>\n",
              "      <td>7.185</td>\n",
              "      <td>61.1</td>\n",
              "      <td>4.9671</td>\n",
              "      <td>2</td>\n",
              "      <td>242.0</td>\n",
              "      <td>17.8</td>\n",
              "      <td>392.83</td>\n",
              "      <td>4.03</td>\n",
              "      <td>34.7</td>\n",
              "    </tr>\n",
              "    <tr>\n",
              "      <th>3</th>\n",
              "      <td>0.03237</td>\n",
              "      <td>0.0</td>\n",
              "      <td>2.18</td>\n",
              "      <td>0</td>\n",
              "      <td>0.458</td>\n",
              "      <td>6.998</td>\n",
              "      <td>45.8</td>\n",
              "      <td>6.0622</td>\n",
              "      <td>3</td>\n",
              "      <td>222.0</td>\n",
              "      <td>18.7</td>\n",
              "      <td>394.63</td>\n",
              "      <td>2.94</td>\n",
              "      <td>33.4</td>\n",
              "    </tr>\n",
              "    <tr>\n",
              "      <th>4</th>\n",
              "      <td>0.06905</td>\n",
              "      <td>0.0</td>\n",
              "      <td>2.18</td>\n",
              "      <td>0</td>\n",
              "      <td>0.458</td>\n",
              "      <td>7.147</td>\n",
              "      <td>54.2</td>\n",
              "      <td>6.0622</td>\n",
              "      <td>3</td>\n",
              "      <td>222.0</td>\n",
              "      <td>18.7</td>\n",
              "      <td>396.90</td>\n",
              "      <td>5.33</td>\n",
              "      <td>36.2</td>\n",
              "    </tr>\n",
              "  </tbody>\n",
              "</table>\n",
              "</div>"
            ],
            "text/plain": [
              "      CRIM    ZN  INDUS  CHAS    NOX     RM   AGE     DIS  RAD    TAX  \\\n",
              "0  0.00632  18.0   2.31     0  0.538  6.575  65.2  4.0900    1  296.0   \n",
              "1  0.02731   0.0   7.07     0  0.469  6.421  78.9  4.9671    2  242.0   \n",
              "2  0.02729   0.0   7.07     0  0.469  7.185  61.1  4.9671    2  242.0   \n",
              "3  0.03237   0.0   2.18     0  0.458  6.998  45.8  6.0622    3  222.0   \n",
              "4  0.06905   0.0   2.18     0  0.458  7.147  54.2  6.0622    3  222.0   \n",
              "\n",
              "   PTRATIO       B  LSTAT  MEDV  \n",
              "0     15.3  396.90   4.98  24.0  \n",
              "1     17.8  396.90   9.14  21.6  \n",
              "2     17.8  392.83   4.03  34.7  \n",
              "3     18.7  394.63   2.94  33.4  \n",
              "4     18.7  396.90   5.33  36.2  "
            ]
          },
          "execution_count": 37,
          "metadata": {},
          "output_type": "execute_result"
        }
      ],
      "source": [
        "#loading the first 5 rows from our data to get it's summary\n",
        "data.head()"
      ]
    },
    {
      "cell_type": "code",
      "execution_count": 38,
      "metadata": {
        "colab": {
          "base_uri": "https://localhost:8080/",
          "height": 206
        },
        "execution": {
          "iopub.execute_input": "2021-11-02T19:13:37.89549Z",
          "iopub.status.busy": "2021-11-02T19:13:37.895074Z",
          "iopub.status.idle": "2021-11-02T19:13:37.922457Z",
          "shell.execute_reply": "2021-11-02T19:13:37.921374Z",
          "shell.execute_reply.started": "2021-11-02T19:13:37.895433Z"
        },
        "id": "JgCLoV0ca3x2",
        "outputId": "5389b1a6-51ce-487a-af04-89977cb019d0",
        "trusted": true
      },
      "outputs": [
        {
          "data": {
            "text/html": [
              "<div>\n",
              "<style scoped>\n",
              "    .dataframe tbody tr th:only-of-type {\n",
              "        vertical-align: middle;\n",
              "    }\n",
              "\n",
              "    .dataframe tbody tr th {\n",
              "        vertical-align: top;\n",
              "    }\n",
              "\n",
              "    .dataframe thead th {\n",
              "        text-align: right;\n",
              "    }\n",
              "</style>\n",
              "<table border=\"1\" class=\"dataframe\">\n",
              "  <thead>\n",
              "    <tr style=\"text-align: right;\">\n",
              "      <th></th>\n",
              "      <th>CRIM</th>\n",
              "      <th>ZN</th>\n",
              "      <th>INDUS</th>\n",
              "      <th>CHAS</th>\n",
              "      <th>NOX</th>\n",
              "      <th>RM</th>\n",
              "      <th>AGE</th>\n",
              "      <th>DIS</th>\n",
              "      <th>RAD</th>\n",
              "      <th>TAX</th>\n",
              "      <th>PTRATIO</th>\n",
              "      <th>B</th>\n",
              "      <th>LSTAT</th>\n",
              "      <th>MEDV</th>\n",
              "    </tr>\n",
              "  </thead>\n",
              "  <tbody>\n",
              "    <tr>\n",
              "      <th>501</th>\n",
              "      <td>0.06263</td>\n",
              "      <td>0.0</td>\n",
              "      <td>11.93</td>\n",
              "      <td>0</td>\n",
              "      <td>0.573</td>\n",
              "      <td>6.593</td>\n",
              "      <td>69.1</td>\n",
              "      <td>2.4786</td>\n",
              "      <td>1</td>\n",
              "      <td>273.0</td>\n",
              "      <td>21.0</td>\n",
              "      <td>391.99</td>\n",
              "      <td>9.67</td>\n",
              "      <td>22.4</td>\n",
              "    </tr>\n",
              "    <tr>\n",
              "      <th>502</th>\n",
              "      <td>0.04527</td>\n",
              "      <td>0.0</td>\n",
              "      <td>11.93</td>\n",
              "      <td>0</td>\n",
              "      <td>0.573</td>\n",
              "      <td>6.120</td>\n",
              "      <td>76.7</td>\n",
              "      <td>2.2875</td>\n",
              "      <td>1</td>\n",
              "      <td>273.0</td>\n",
              "      <td>21.0</td>\n",
              "      <td>396.90</td>\n",
              "      <td>9.08</td>\n",
              "      <td>20.6</td>\n",
              "    </tr>\n",
              "    <tr>\n",
              "      <th>503</th>\n",
              "      <td>0.06076</td>\n",
              "      <td>0.0</td>\n",
              "      <td>11.93</td>\n",
              "      <td>0</td>\n",
              "      <td>0.573</td>\n",
              "      <td>6.976</td>\n",
              "      <td>91.0</td>\n",
              "      <td>2.1675</td>\n",
              "      <td>1</td>\n",
              "      <td>273.0</td>\n",
              "      <td>21.0</td>\n",
              "      <td>396.90</td>\n",
              "      <td>5.64</td>\n",
              "      <td>23.9</td>\n",
              "    </tr>\n",
              "    <tr>\n",
              "      <th>504</th>\n",
              "      <td>0.10959</td>\n",
              "      <td>0.0</td>\n",
              "      <td>11.93</td>\n",
              "      <td>0</td>\n",
              "      <td>0.573</td>\n",
              "      <td>6.794</td>\n",
              "      <td>89.3</td>\n",
              "      <td>2.3889</td>\n",
              "      <td>1</td>\n",
              "      <td>273.0</td>\n",
              "      <td>21.0</td>\n",
              "      <td>393.45</td>\n",
              "      <td>6.48</td>\n",
              "      <td>22.0</td>\n",
              "    </tr>\n",
              "    <tr>\n",
              "      <th>505</th>\n",
              "      <td>0.04741</td>\n",
              "      <td>0.0</td>\n",
              "      <td>11.93</td>\n",
              "      <td>0</td>\n",
              "      <td>0.573</td>\n",
              "      <td>6.030</td>\n",
              "      <td>80.8</td>\n",
              "      <td>2.5050</td>\n",
              "      <td>1</td>\n",
              "      <td>273.0</td>\n",
              "      <td>21.0</td>\n",
              "      <td>396.90</td>\n",
              "      <td>7.88</td>\n",
              "      <td>11.9</td>\n",
              "    </tr>\n",
              "  </tbody>\n",
              "</table>\n",
              "</div>"
            ],
            "text/plain": [
              "        CRIM   ZN  INDUS  CHAS    NOX     RM   AGE     DIS  RAD    TAX  \\\n",
              "501  0.06263  0.0  11.93     0  0.573  6.593  69.1  2.4786    1  273.0   \n",
              "502  0.04527  0.0  11.93     0  0.573  6.120  76.7  2.2875    1  273.0   \n",
              "503  0.06076  0.0  11.93     0  0.573  6.976  91.0  2.1675    1  273.0   \n",
              "504  0.10959  0.0  11.93     0  0.573  6.794  89.3  2.3889    1  273.0   \n",
              "505  0.04741  0.0  11.93     0  0.573  6.030  80.8  2.5050    1  273.0   \n",
              "\n",
              "     PTRATIO       B  LSTAT  MEDV  \n",
              "501     21.0  391.99   9.67  22.4  \n",
              "502     21.0  396.90   9.08  20.6  \n",
              "503     21.0  396.90   5.64  23.9  \n",
              "504     21.0  393.45   6.48  22.0  \n",
              "505     21.0  396.90   7.88  11.9  "
            ]
          },
          "execution_count": 38,
          "metadata": {},
          "output_type": "execute_result"
        }
      ],
      "source": [
        "#loading the last 5 rows from our data to get it's summary\n",
        "data.tail()"
      ]
    },
    {
      "cell_type": "code",
      "execution_count": 39,
      "metadata": {
        "colab": {
          "base_uri": "https://localhost:8080/"
        },
        "execution": {
          "iopub.execute_input": "2021-11-02T19:14:02.006296Z",
          "iopub.status.busy": "2021-11-02T19:14:02.005599Z",
          "iopub.status.idle": "2021-11-02T19:14:02.014878Z",
          "shell.execute_reply": "2021-11-02T19:14:02.013999Z",
          "shell.execute_reply.started": "2021-11-02T19:14:02.006254Z"
        },
        "id": "0AcChTO6a3x3",
        "outputId": "83103efe-2f43-4c23-f620-b8ade65df115",
        "trusted": true
      },
      "outputs": [
        {
          "data": {
            "text/plain": [
              "CRIM       0\n",
              "ZN         0\n",
              "INDUS      0\n",
              "CHAS       0\n",
              "NOX        0\n",
              "RM         0\n",
              "AGE        0\n",
              "DIS        0\n",
              "RAD        0\n",
              "TAX        0\n",
              "PTRATIO    0\n",
              "B          0\n",
              "LSTAT      0\n",
              "MEDV       0\n",
              "dtype: int64"
            ]
          },
          "execution_count": 39,
          "metadata": {},
          "output_type": "execute_result"
        }
      ],
      "source": [
        "data.isna().sum()"
      ]
    },
    {
      "cell_type": "code",
      "execution_count": 40,
      "metadata": {
        "colab": {
          "base_uri": "https://localhost:8080/",
          "height": 320
        },
        "execution": {
          "iopub.execute_input": "2021-11-02T19:14:30.289166Z",
          "iopub.status.busy": "2021-11-02T19:14:30.288292Z",
          "iopub.status.idle": "2021-11-02T19:14:30.349424Z",
          "shell.execute_reply": "2021-11-02T19:14:30.348831Z",
          "shell.execute_reply.started": "2021-11-02T19:14:30.289122Z"
        },
        "id": "2ZUVYYwDa3x4",
        "outputId": "1de9b0c2-e67c-482d-82ad-703afcb814b8",
        "trusted": true
      },
      "outputs": [
        {
          "data": {
            "text/html": [
              "<div>\n",
              "<style scoped>\n",
              "    .dataframe tbody tr th:only-of-type {\n",
              "        vertical-align: middle;\n",
              "    }\n",
              "\n",
              "    .dataframe tbody tr th {\n",
              "        vertical-align: top;\n",
              "    }\n",
              "\n",
              "    .dataframe thead th {\n",
              "        text-align: right;\n",
              "    }\n",
              "</style>\n",
              "<table border=\"1\" class=\"dataframe\">\n",
              "  <thead>\n",
              "    <tr style=\"text-align: right;\">\n",
              "      <th></th>\n",
              "      <th>CRIM</th>\n",
              "      <th>ZN</th>\n",
              "      <th>INDUS</th>\n",
              "      <th>CHAS</th>\n",
              "      <th>NOX</th>\n",
              "      <th>RM</th>\n",
              "      <th>AGE</th>\n",
              "      <th>DIS</th>\n",
              "      <th>RAD</th>\n",
              "      <th>TAX</th>\n",
              "      <th>PTRATIO</th>\n",
              "      <th>B</th>\n",
              "      <th>LSTAT</th>\n",
              "      <th>MEDV</th>\n",
              "    </tr>\n",
              "  </thead>\n",
              "  <tbody>\n",
              "    <tr>\n",
              "      <th>count</th>\n",
              "      <td>506.000000</td>\n",
              "      <td>506.000000</td>\n",
              "      <td>506.000000</td>\n",
              "      <td>506.000000</td>\n",
              "      <td>506.000000</td>\n",
              "      <td>506.000000</td>\n",
              "      <td>506.000000</td>\n",
              "      <td>506.000000</td>\n",
              "      <td>506.000000</td>\n",
              "      <td>506.000000</td>\n",
              "      <td>506.000000</td>\n",
              "      <td>506.000000</td>\n",
              "      <td>506.000000</td>\n",
              "      <td>506.000000</td>\n",
              "    </tr>\n",
              "    <tr>\n",
              "      <th>mean</th>\n",
              "      <td>3.613524</td>\n",
              "      <td>11.363636</td>\n",
              "      <td>11.136779</td>\n",
              "      <td>0.069170</td>\n",
              "      <td>0.554695</td>\n",
              "      <td>6.284634</td>\n",
              "      <td>68.574901</td>\n",
              "      <td>3.795043</td>\n",
              "      <td>9.549407</td>\n",
              "      <td>408.237154</td>\n",
              "      <td>18.455534</td>\n",
              "      <td>356.674032</td>\n",
              "      <td>12.653063</td>\n",
              "      <td>22.532806</td>\n",
              "    </tr>\n",
              "    <tr>\n",
              "      <th>std</th>\n",
              "      <td>8.601545</td>\n",
              "      <td>23.322453</td>\n",
              "      <td>6.860353</td>\n",
              "      <td>0.253994</td>\n",
              "      <td>0.115878</td>\n",
              "      <td>0.702617</td>\n",
              "      <td>28.148861</td>\n",
              "      <td>2.105710</td>\n",
              "      <td>8.707259</td>\n",
              "      <td>168.537116</td>\n",
              "      <td>2.164946</td>\n",
              "      <td>91.294864</td>\n",
              "      <td>7.141062</td>\n",
              "      <td>9.197104</td>\n",
              "    </tr>\n",
              "    <tr>\n",
              "      <th>min</th>\n",
              "      <td>0.006320</td>\n",
              "      <td>0.000000</td>\n",
              "      <td>0.460000</td>\n",
              "      <td>0.000000</td>\n",
              "      <td>0.385000</td>\n",
              "      <td>3.561000</td>\n",
              "      <td>2.900000</td>\n",
              "      <td>1.129600</td>\n",
              "      <td>1.000000</td>\n",
              "      <td>187.000000</td>\n",
              "      <td>12.600000</td>\n",
              "      <td>0.320000</td>\n",
              "      <td>1.730000</td>\n",
              "      <td>5.000000</td>\n",
              "    </tr>\n",
              "    <tr>\n",
              "      <th>25%</th>\n",
              "      <td>0.082045</td>\n",
              "      <td>0.000000</td>\n",
              "      <td>5.190000</td>\n",
              "      <td>0.000000</td>\n",
              "      <td>0.449000</td>\n",
              "      <td>5.885500</td>\n",
              "      <td>45.025000</td>\n",
              "      <td>2.100175</td>\n",
              "      <td>4.000000</td>\n",
              "      <td>279.000000</td>\n",
              "      <td>17.400000</td>\n",
              "      <td>375.377500</td>\n",
              "      <td>6.950000</td>\n",
              "      <td>17.025000</td>\n",
              "    </tr>\n",
              "    <tr>\n",
              "      <th>50%</th>\n",
              "      <td>0.256510</td>\n",
              "      <td>0.000000</td>\n",
              "      <td>9.690000</td>\n",
              "      <td>0.000000</td>\n",
              "      <td>0.538000</td>\n",
              "      <td>6.208500</td>\n",
              "      <td>77.500000</td>\n",
              "      <td>3.207450</td>\n",
              "      <td>5.000000</td>\n",
              "      <td>330.000000</td>\n",
              "      <td>19.050000</td>\n",
              "      <td>391.440000</td>\n",
              "      <td>11.360000</td>\n",
              "      <td>21.200000</td>\n",
              "    </tr>\n",
              "    <tr>\n",
              "      <th>75%</th>\n",
              "      <td>3.677083</td>\n",
              "      <td>12.500000</td>\n",
              "      <td>18.100000</td>\n",
              "      <td>0.000000</td>\n",
              "      <td>0.624000</td>\n",
              "      <td>6.623500</td>\n",
              "      <td>94.075000</td>\n",
              "      <td>5.188425</td>\n",
              "      <td>24.000000</td>\n",
              "      <td>666.000000</td>\n",
              "      <td>20.200000</td>\n",
              "      <td>396.225000</td>\n",
              "      <td>16.955000</td>\n",
              "      <td>25.000000</td>\n",
              "    </tr>\n",
              "    <tr>\n",
              "      <th>max</th>\n",
              "      <td>88.976200</td>\n",
              "      <td>100.000000</td>\n",
              "      <td>27.740000</td>\n",
              "      <td>1.000000</td>\n",
              "      <td>0.871000</td>\n",
              "      <td>8.780000</td>\n",
              "      <td>100.000000</td>\n",
              "      <td>12.126500</td>\n",
              "      <td>24.000000</td>\n",
              "      <td>711.000000</td>\n",
              "      <td>22.000000</td>\n",
              "      <td>396.900000</td>\n",
              "      <td>37.970000</td>\n",
              "      <td>50.000000</td>\n",
              "    </tr>\n",
              "  </tbody>\n",
              "</table>\n",
              "</div>"
            ],
            "text/plain": [
              "             CRIM          ZN       INDUS        CHAS         NOX          RM  \\\n",
              "count  506.000000  506.000000  506.000000  506.000000  506.000000  506.000000   \n",
              "mean     3.613524   11.363636   11.136779    0.069170    0.554695    6.284634   \n",
              "std      8.601545   23.322453    6.860353    0.253994    0.115878    0.702617   \n",
              "min      0.006320    0.000000    0.460000    0.000000    0.385000    3.561000   \n",
              "25%      0.082045    0.000000    5.190000    0.000000    0.449000    5.885500   \n",
              "50%      0.256510    0.000000    9.690000    0.000000    0.538000    6.208500   \n",
              "75%      3.677083   12.500000   18.100000    0.000000    0.624000    6.623500   \n",
              "max     88.976200  100.000000   27.740000    1.000000    0.871000    8.780000   \n",
              "\n",
              "              AGE         DIS         RAD         TAX     PTRATIO           B  \\\n",
              "count  506.000000  506.000000  506.000000  506.000000  506.000000  506.000000   \n",
              "mean    68.574901    3.795043    9.549407  408.237154   18.455534  356.674032   \n",
              "std     28.148861    2.105710    8.707259  168.537116    2.164946   91.294864   \n",
              "min      2.900000    1.129600    1.000000  187.000000   12.600000    0.320000   \n",
              "25%     45.025000    2.100175    4.000000  279.000000   17.400000  375.377500   \n",
              "50%     77.500000    3.207450    5.000000  330.000000   19.050000  391.440000   \n",
              "75%     94.075000    5.188425   24.000000  666.000000   20.200000  396.225000   \n",
              "max    100.000000   12.126500   24.000000  711.000000   22.000000  396.900000   \n",
              "\n",
              "            LSTAT        MEDV  \n",
              "count  506.000000  506.000000  \n",
              "mean    12.653063   22.532806  \n",
              "std      7.141062    9.197104  \n",
              "min      1.730000    5.000000  \n",
              "25%      6.950000   17.025000  \n",
              "50%     11.360000   21.200000  \n",
              "75%     16.955000   25.000000  \n",
              "max     37.970000   50.000000  "
            ]
          },
          "execution_count": 40,
          "metadata": {},
          "output_type": "execute_result"
        }
      ],
      "source": [
        "#get the summary description of our data\n",
        "data.describe()"
      ]
    },
    {
      "cell_type": "markdown",
      "metadata": {
        "id": "k7-5oGuqa3x4"
      },
      "source": [
        "# target variable\n",
        "we want to predict the house price with a column label  \"MEDV\" which is the Median value of owner-occupied homes in $1000's"
      ]
    },
    {
      "cell_type": "markdown",
      "metadata": {
        "id": "1gn3u65Ja3x5"
      },
      "source": [
        "## 3. Data Visualization"
      ]
    },
    {
      "cell_type": "code",
      "execution_count": 41,
      "metadata": {
        "colab": {
          "base_uri": "https://localhost:8080/",
          "height": 285
        },
        "execution": {
          "iopub.execute_input": "2021-11-02T19:15:58.314425Z",
          "iopub.status.busy": "2021-11-02T19:15:58.313984Z",
          "iopub.status.idle": "2021-11-02T19:15:58.626476Z",
          "shell.execute_reply": "2021-11-02T19:15:58.625442Z",
          "shell.execute_reply.started": "2021-11-02T19:15:58.314392Z"
        },
        "id": "eveo1wAHa3x5",
        "outputId": "0fad8cdc-a794-45c4-d00f-38ee47724c07",
        "trusted": true
      },
      "outputs": [
        {
          "data": {
            "text/plain": [
              "<AxesSubplot:>"
            ]
          },
          "execution_count": 41,
          "metadata": {},
          "output_type": "execute_result"
        },
        {
          "data": {
            "image/png": "[encoded data removed]",
            "text/plain": [
              "<Figure size 432x288 with 1 Axes>"
            ]
          },
          "metadata": {
            "needs_background": "light"
          },
          "output_type": "display_data"
        }
      ],
      "source": [
        "data.MEDV.hist()"
      ]
    },
    {
      "cell_type": "code",
      "execution_count": 42,
      "metadata": {
        "colab": {
          "base_uri": "https://localhost:8080/",
          "height": 334
        },
        "execution": {
          "iopub.execute_input": "2021-11-02T19:16:59.805659Z",
          "iopub.status.busy": "2021-11-02T19:16:59.804746Z",
          "iopub.status.idle": "2021-11-02T19:17:00.100378Z",
          "shell.execute_reply": "2021-11-02T19:17:00.09942Z",
          "shell.execute_reply.started": "2021-11-02T19:16:59.805605Z"
        },
        "id": "fP2UC6XLa3x5",
        "outputId": "67f77579-c46b-4e4e-900c-b6ee1db0e8b4",
        "trusted": true
      },
      "outputs": [
        {
          "name": "stderr",
          "output_type": "stream",
          "text": [
            "C:\\Users\\Zakar\\AppData\\Local\\Programs\\Python\\Python39\\lib\\site-packages\\seaborn\\distributions.py:2619: FutureWarning: `distplot` is a deprecated function and will be removed in a future version. Please adapt your code to use either `displot` (a figure-level function with similar flexibility) or `histplot` (an axes-level function for histograms).\n",
            "  warnings.warn(msg, FutureWarning)\n"
          ]
        },
        {
          "data": {
            "image/png": "[encoded data removed]",
            "text/plain": [
              "<Figure size 432x288 with 1 Axes>"
            ]
          },
          "metadata": {
            "needs_background": "light"
          },
          "output_type": "display_data"
        }
      ],
      "source": [
        "sns.distplot(data['MEDV'], bins=30)\n",
        "plt.show()"
      ]
    },
    {
      "cell_type": "markdown",
      "metadata": {
        "id": "3HlJKuPsa3x8"
      },
      "source": [
        "* On average the distribution of the house prices are between 10 and 50 dollars.\n",
        "* There those on the extreme house prices at dollars over 50."
      ]
    },
    {
      "cell_type": "code",
      "execution_count": 43,
      "metadata": {
        "colab": {
          "base_uri": "https://localhost:8080/",
          "height": 334
        },
        "execution": {
          "iopub.execute_input": "2021-11-02T19:18:47.659174Z",
          "iopub.status.busy": "2021-11-02T19:18:47.658477Z",
          "iopub.status.idle": "2021-11-02T19:18:47.938174Z",
          "shell.execute_reply": "2021-11-02T19:18:47.937295Z",
          "shell.execute_reply.started": "2021-11-02T19:18:47.659131Z"
        },
        "id": "JSwCi2xUa3x8",
        "outputId": "d822669d-aabc-4555-9cff-c9fbef087461",
        "trusted": true
      },
      "outputs": [
        {
          "name": "stderr",
          "output_type": "stream",
          "text": [
            "C:\\Users\\Zakar\\AppData\\Local\\Programs\\Python\\Python39\\lib\\site-packages\\seaborn\\distributions.py:2619: FutureWarning: `distplot` is a deprecated function and will be removed in a future version. Please adapt your code to use either `displot` (a figure-level function with similar flexibility) or `histplot` (an axes-level function for histograms).\n",
            "  warnings.warn(msg, FutureWarning)\n"
          ]
        },
        {
          "data": {
            "image/png": "[encoded data removed]",
            "text/plain": [
              "<Figure size 432x288 with 1 Axes>"
            ]
          },
          "metadata": {
            "needs_background": "light"
          },
          "output_type": "display_data"
        }
      ],
      "source": [
        "#Let's drop housing prices over or equal to 50 from our data\n",
        "data=data[~(data[\"MEDV\"]>=50)]\n",
        "sns.distplot(data['MEDV'], bins=30)\n",
        "plt.show()"
      ]
    },
    {
      "cell_type": "markdown",
      "metadata": {
        "id": "8G71MJVma3x9"
      },
      "source": [
        "#### 3.2 House Price vs CRIME Rate by town"
      ]
    },
    {
      "cell_type": "code",
      "execution_count": 44,
      "metadata": {
        "colab": {
          "base_uri": "https://localhost:8080/",
          "height": 350
        },
        "execution": {
          "iopub.execute_input": "2021-11-02T19:20:53.386421Z",
          "iopub.status.busy": "2021-11-02T19:20:53.386102Z",
          "iopub.status.idle": "2021-11-02T19:20:53.636677Z",
          "shell.execute_reply": "2021-11-02T19:20:53.635801Z",
          "shell.execute_reply.started": "2021-11-02T19:20:53.386385Z"
        },
        "id": "wuXDIemNa3x9",
        "outputId": "8c0d1f6d-cac1-42f5-8099-28f588cc377d",
        "trusted": true
      },
      "outputs": [
        {
          "data": {
            "image/png": "[encoded data removed]",
            "text/plain": [
              "<Figure size 720x360 with 1 Axes>"
            ]
          },
          "metadata": {
            "needs_background": "light"
          },
          "output_type": "display_data"
        }
      ],
      "source": [
        "plt.figure(figsize=(10, 5))\n",
        "\n",
        "plt.scatter(data.CRIM,data.MEDV)\n",
        "plt.xlabel(\"Per capita crime rate by town\")\n",
        "plt.ylabel(\"Housing Price\")\n",
        "plt.title(\"House price vs per capita crime rate by town\");"
      ]
    },
    {
      "cell_type": "markdown",
      "metadata": {
        "execution": {
          "iopub.execute_input": "2021-11-02T19:21:09.534727Z",
          "iopub.status.busy": "2021-11-02T19:21:09.534417Z",
          "iopub.status.idle": "2021-11-02T19:21:09.54091Z",
          "shell.execute_reply": "2021-11-02T19:21:09.539565Z",
          "shell.execute_reply.started": "2021-11-02T19:21:09.534694Z"
        },
        "id": "WROqw3Afa3x-"
      },
      "source": [
        "From the plot above shows the lesser the per capita crime rate by town the more the house prices fall betwween $12-40\"safe neighbour hood the expensive the house\".\n",
        "Which implies the higher the crime rate by town the cheaper houses to find."
      ]
    },
    {
      "cell_type": "markdown",
      "metadata": {
        "id": "G5n7W7m1a3x-"
      },
      "source": [
        "#### 3.3 Housing prices vs average number of rooms per dwelling"
      ]
    },
    {
      "cell_type": "code",
      "execution_count": 45,
      "metadata": {
        "colab": {
          "base_uri": "https://localhost:8080/",
          "height": 350
        },
        "execution": {
          "iopub.execute_input": "2021-11-02T19:24:35.914388Z",
          "iopub.status.busy": "2021-11-02T19:24:35.914054Z",
          "iopub.status.idle": "2021-11-02T19:24:36.156431Z",
          "shell.execute_reply": "2021-11-02T19:24:36.155506Z",
          "shell.execute_reply.started": "2021-11-02T19:24:35.914352Z"
        },
        "id": "UOIfKmZra3x_",
        "outputId": "6626df6c-32c1-4496-d166-ab98b25f8f36",
        "trusted": true
      },
      "outputs": [
        {
          "data": {
            "image/png": "[encoded data removed]",
            "text/plain": [
              "<Figure size 720x360 with 1 Axes>"
            ]
          },
          "metadata": {
            "needs_background": "light"
          },
          "output_type": "display_data"
        }
      ],
      "source": [
        "plt.figure(figsize=(10,5))\n",
        "\n",
        "plt.scatter(data.RM,data.MEDV)\n",
        "plt.xlabel(\"average number of rooms per dwelling\")\n",
        "plt.ylabel(\"Housing Price\")\n",
        "plt.title(\"House prices vs Number of rooms\");"
      ]
    },
    {
      "cell_type": "markdown",
      "metadata": {
        "id": "NNu1eu5na3x_"
      },
      "source": [
        "From our dataset most house prices at between 20-30,have an average of 6-7 rooms with some few(outliers) exceptional ones at 50$.\n",
        "\n",
        "The more the number of rooms above 7 in a house the higher the price ranging between above $30 -50."
      ]
    },
    {
      "cell_type": "markdown",
      "metadata": {
        "id": "fwUVtcjaa3x_"
      },
      "source": [
        "#### 3.4 Housing Prices vs 5 Boston employment centres"
      ]
    },
    {
      "cell_type": "code",
      "execution_count": 46,
      "metadata": {
        "colab": {
          "base_uri": "https://localhost:8080/",
          "height": 350
        },
        "execution": {
          "iopub.execute_input": "2021-11-02T19:26:11.55363Z",
          "iopub.status.busy": "2021-11-02T19:26:11.553267Z",
          "iopub.status.idle": "2021-11-02T19:26:11.80402Z",
          "shell.execute_reply": "2021-11-02T19:26:11.803055Z",
          "shell.execute_reply.started": "2021-11-02T19:26:11.553591Z"
        },
        "id": "wqxphN9fa3x_",
        "outputId": "dec7026b-a1d0-452e-e77c-44add225f455",
        "trusted": true
      },
      "outputs": [
        {
          "data": {
            "image/png": "[encoded data removed]",
            "text/plain": [
              "<Figure size 720x360 with 1 Axes>"
            ]
          },
          "metadata": {
            "needs_background": "light"
          },
          "output_type": "display_data"
        }
      ],
      "source": [
        "plt.figure(figsize=(10,5))\n",
        "plt.scatter(data.DIS,data.MEDV)\n",
        "plt.xlabel(\"weighted distances to five Boston employment centres\")\n",
        "plt.ylabel(\"House Prices\")\n",
        "plt.title(\"House prices vs five Boston employment centres\");"
      ]
    },
    {
      "cell_type": "markdown",
      "metadata": {
        "id": "QBmuYsQIa3yA"
      },
      "source": [
        "The house prices around $5-30 fall between 1-6 weighted distances to the 5 Boston employment centers.\n",
        "\n",
        "The nearer the house to the employment center the likely the price to be cheaper."
      ]
    },
    {
      "cell_type": "markdown",
      "metadata": {
        "id": "tww8RUS8a3yA"
      },
      "source": [
        "#### 3.5  Housing pricing vs to Age of the house"
      ]
    },
    {
      "cell_type": "code",
      "execution_count": 47,
      "metadata": {
        "colab": {
          "base_uri": "https://localhost:8080/",
          "height": 350
        },
        "execution": {
          "iopub.execute_input": "2021-11-02T19:27:53.630136Z",
          "iopub.status.busy": "2021-11-02T19:27:53.629834Z",
          "iopub.status.idle": "2021-11-02T19:27:53.880805Z",
          "shell.execute_reply": "2021-11-02T19:27:53.879934Z",
          "shell.execute_reply.started": "2021-11-02T19:27:53.630106Z"
        },
        "id": "jp8RDSgla3yB",
        "outputId": "d273f1fb-8ddc-4246-dd0f-eb025cc033ba",
        "trusted": true
      },
      "outputs": [
        {
          "data": {
            "image/png": "[encoded data removed]",
            "text/plain": [
              "<Figure size 720x360 with 1 Axes>"
            ]
          },
          "metadata": {
            "needs_background": "light"
          },
          "output_type": "display_data"
        }
      ],
      "source": [
        "plt.figure(figsize=(10,5))\n",
        "plt.scatter(data.AGE,data.MEDV)\n",
        "plt.xlabel(\"proportion of owner-occupied units built prior to 1940\")\n",
        "plt.ylabel(\"House prices\")\n",
        "plt.title(\"House Price vs Age of the house\");"
      ]
    },
    {
      "cell_type": "markdown",
      "metadata": {
        "id": "rzIh-b71a3yB"
      },
      "source": [
        "The older the Age proportion of owner-occupied units built prior to 1940 the cheaper it is price ranging between $10-20.\n",
        "\n",
        "Most of the proportion of owner-occupied units built prior to 1940 range between 80-100."
      ]
    },
    {
      "cell_type": "markdown",
      "metadata": {
        "id": "Faryu8una3yC"
      },
      "source": [
        "#### 3.6 House prices vs pupil-teacher ratio by town."
      ]
    },
    {
      "cell_type": "code",
      "execution_count": 48,
      "metadata": {
        "colab": {
          "base_uri": "https://localhost:8080/",
          "height": 350
        },
        "execution": {
          "iopub.execute_input": "2021-11-02T19:28:43.202455Z",
          "iopub.status.busy": "2021-11-02T19:28:43.20213Z",
          "iopub.status.idle": "2021-11-02T19:28:43.447322Z",
          "shell.execute_reply": "2021-11-02T19:28:43.446509Z",
          "shell.execute_reply.started": "2021-11-02T19:28:43.202424Z"
        },
        "id": "GgM8jfXia3yK",
        "outputId": "b1d9b753-941d-4660-baf7-27db1beaa924",
        "trusted": true
      },
      "outputs": [
        {
          "data": {
            "image/png": "[encoded data removed]",
            "text/plain": [
              "<Figure size 720x360 with 1 Axes>"
            ]
          },
          "metadata": {
            "needs_background": "light"
          },
          "output_type": "display_data"
        }
      ],
      "source": [
        "plt.figure(figsize=(10,5))\n",
        "plt.scatter(data.PTRATIO ,data.MEDV)\n",
        "plt.xlabel(\"pupil-teacher ratio by town\")\n",
        "plt.ylabel(\"House prices\")\n",
        "plt.title(\"House prices vs pupil-teacher ratio by town.\");"
      ]
    },
    {
      "cell_type": "markdown",
      "metadata": {
        "id": "QELfWegYa3yL"
      },
      "source": [
        "Houses where the pupil-teacher ration by town is high the majority of the house prices range between $5-25.\n",
        "\n",
        "These can be understood as the few pupils to teacher ration the higher the prices of houses in that town (A narrative of public vs private schools) on impact of nearby houses."
      ]
    },
    {
      "cell_type": "markdown",
      "metadata": {
        "id": "OMSuxD46a3yQ"
      },
      "source": [
        "## 4. Model Builing\n"
      ]
    },
    {
      "cell_type": "code",
      "execution_count": 49,
      "metadata": {
        "execution": {
          "iopub.execute_input": "2021-11-02T19:31:48.398285Z",
          "iopub.status.busy": "2021-11-02T19:31:48.397478Z",
          "iopub.status.idle": "2021-11-02T19:31:48.404329Z",
          "shell.execute_reply": "2021-11-02T19:31:48.403178Z",
          "shell.execute_reply.started": "2021-11-02T19:31:48.398231Z"
        },
        "id": "3wecNMDFa3yR",
        "trusted": true
      },
      "outputs": [],
      "source": [
        "#Difine our feature varibles and target variable\n",
        "X=data.drop(\"MEDV\",axis=1)\n",
        "y=data[\"MEDV\"]"
      ]
    },
    {
      "cell_type": "code",
      "execution_count": 50,
      "metadata": {
        "execution": {
          "iopub.execute_input": "2021-11-02T19:48:28.784463Z",
          "iopub.status.busy": "2021-11-02T19:48:28.783525Z",
          "iopub.status.idle": "2021-11-02T19:48:28.790155Z",
          "shell.execute_reply": "2021-11-02T19:48:28.789487Z",
          "shell.execute_reply.started": "2021-11-02T19:48:28.784424Z"
        },
        "id": "-UUP62dha3yR",
        "trusted": true
      },
      "outputs": [],
      "source": [
        "#splitting our data into training and test\n",
        "np.random.seed(42)\n",
        "X_train,X_test,y_train,y_test=train_test_split(X,y,test_size=0.2)"
      ]
    },
    {
      "cell_type": "markdown",
      "metadata": {
        "id": "vPkWkOeDa3yR"
      },
      "source": [
        "####  4.1 Linear Regression"
      ]
    },
    {
      "cell_type": "code",
      "execution_count": 51,
      "metadata": {
        "colab": {
          "base_uri": "https://localhost:8080/"
        },
        "execution": {
          "iopub.execute_input": "2021-11-02T19:33:10.294014Z",
          "iopub.status.busy": "2021-11-02T19:33:10.293734Z",
          "iopub.status.idle": "2021-11-02T19:33:10.311529Z",
          "shell.execute_reply": "2021-11-02T19:33:10.310452Z",
          "shell.execute_reply.started": "2021-11-02T19:33:10.293985Z"
        },
        "id": "FmDXvIQga3yR",
        "outputId": "e016532c-93b3-4bc7-b29e-034a038b0c9a",
        "trusted": true
      },
      "outputs": [
        {
          "name": "stdout",
          "output_type": "stream",
          "text": [
            "Linear Regresssion\n",
            "Mean Squared Error : 12.055902866387564\n",
            "mean Absolute Error : 2.6415049059591507\n",
            "R2 Score : 0.7640047258028567\n"
          ]
        }
      ],
      "source": [
        "#instantiate our model\n",
        "lin_reg=LinearRegression()\n",
        "\n",
        "#fit training data into our model\n",
        "lin_reg.fit(X_train,y_train)\n",
        "\n",
        "#use our model to predict with test data\n",
        "l_preds=lin_reg.predict(X_test)\n",
        "\n",
        "#evaluate our model's performance using mean squared error\n",
        "mse=mean_squared_error(y_test,l_preds)\n",
        "\n",
        "#evaluate our model's performance using mean absolute error\n",
        "mae=mean_absolute_error(y_test,l_preds)\n",
        "\n",
        "#evaluate our model's performance using r2_score\n",
        "R2_score=r2_score(y_test,l_preds)\n",
        "\n",
        "print(\"Linear Regresssion\")\n",
        "print(\"Mean Squared Error :\",mse)\n",
        "print(\"mean Absolute Error :\",mae)\n",
        "print(\"R2 Score :\",R2_score)"
      ]
    }
  ],
  "metadata": {
    "colab": {
      "collapsed_sections": [],
      "name": "Boston_House_Price.ipynb",
      "provenance": []
    },
    "kernelspec": {
      "display_name": "Python 3",
      "language": "python",
      "name": "python3"
    },
    "language_info": {
      "codemirror_mode": {
        "name": "ipython",
        "version": 3
      },
      "file_extension": ".py",
      "mimetype": "text/x-python",
      "name": "python",
      "nbconvert_exporter": "python",
      "pygments_lexer": "ipython3",
      "version": "3.9.7"
    }
  },
  "nbformat": 4,
  "nbformat_minor": 0
}
